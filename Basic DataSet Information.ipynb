{
 "cells": [
  {
   "cell_type": "markdown",
   "metadata": {},
   "source": [
    "### RED VS White\n"
   ]
  },
  {
   "cell_type": "code",
   "execution_count": 1,
   "metadata": {},
   "outputs": [
    {
     "data": {
      "text/html": [
       "<div>\n",
       "<style scoped>\n",
       "    .dataframe tbody tr th:only-of-type {\n",
       "        vertical-align: middle;\n",
       "    }\n",
       "\n",
       "    .dataframe tbody tr th {\n",
       "        vertical-align: top;\n",
       "    }\n",
       "\n",
       "    .dataframe thead th {\n",
       "        text-align: right;\n",
       "    }\n",
       "</style>\n",
       "<table border=\"1\" class=\"dataframe\">\n",
       "  <thead>\n",
       "    <tr style=\"text-align: right;\">\n",
       "      <th></th>\n",
       "      <th>Unnamed: 0</th>\n",
       "      <th>country</th>\n",
       "      <th>description</th>\n",
       "      <th>designation</th>\n",
       "      <th>points</th>\n",
       "      <th>price</th>\n",
       "      <th>province</th>\n",
       "      <th>region_1</th>\n",
       "      <th>region_2</th>\n",
       "      <th>taster_name</th>\n",
       "      <th>taster_twitter_handle</th>\n",
       "      <th>title</th>\n",
       "      <th>variety</th>\n",
       "      <th>winery</th>\n",
       "    </tr>\n",
       "  </thead>\n",
       "  <tbody>\n",
       "    <tr>\n",
       "      <th>0</th>\n",
       "      <td>1</td>\n",
       "      <td>Portugal</td>\n",
       "      <td>This is ripe and fruity, a wine that is smooth...</td>\n",
       "      <td>Avidagos</td>\n",
       "      <td>87</td>\n",
       "      <td>15.0</td>\n",
       "      <td>Douro</td>\n",
       "      <td>NaN</td>\n",
       "      <td>NaN</td>\n",
       "      <td>Roger Voss</td>\n",
       "      <td>@vossroger</td>\n",
       "      <td>Quinta dos Avidagos 2011 Avidagos Red (Douro)</td>\n",
       "      <td>Portuguese Red</td>\n",
       "      <td>Quinta dos Avidagos</td>\n",
       "    </tr>\n",
       "    <tr>\n",
       "      <th>1</th>\n",
       "      <td>2</td>\n",
       "      <td>US</td>\n",
       "      <td>Tart and snappy, the flavors of lime flesh and...</td>\n",
       "      <td>NaN</td>\n",
       "      <td>87</td>\n",
       "      <td>14.0</td>\n",
       "      <td>Oregon</td>\n",
       "      <td>Willamette Valley</td>\n",
       "      <td>Willamette Valley</td>\n",
       "      <td>Paul Gregutt</td>\n",
       "      <td>@paulgwine</td>\n",
       "      <td>Rainstorm 2013 Pinot Gris (Willamette Valley)</td>\n",
       "      <td>Pinot Gris</td>\n",
       "      <td>Rainstorm</td>\n",
       "    </tr>\n",
       "    <tr>\n",
       "      <th>2</th>\n",
       "      <td>3</td>\n",
       "      <td>US</td>\n",
       "      <td>Pineapple rind, lemon pith and orange blossom ...</td>\n",
       "      <td>Reserve Late Harvest</td>\n",
       "      <td>87</td>\n",
       "      <td>13.0</td>\n",
       "      <td>Michigan</td>\n",
       "      <td>Lake Michigan Shore</td>\n",
       "      <td>NaN</td>\n",
       "      <td>Alexander Peartree</td>\n",
       "      <td>NaN</td>\n",
       "      <td>St. Julian 2013 Reserve Late Harvest Riesling ...</td>\n",
       "      <td>Riesling</td>\n",
       "      <td>St. Julian</td>\n",
       "    </tr>\n",
       "    <tr>\n",
       "      <th>3</th>\n",
       "      <td>4</td>\n",
       "      <td>US</td>\n",
       "      <td>Much like the regular bottling from 2012, this...</td>\n",
       "      <td>Vintner's Reserve Wild Child Block</td>\n",
       "      <td>87</td>\n",
       "      <td>65.0</td>\n",
       "      <td>Oregon</td>\n",
       "      <td>Willamette Valley</td>\n",
       "      <td>Willamette Valley</td>\n",
       "      <td>Paul Gregutt</td>\n",
       "      <td>@paulgwine</td>\n",
       "      <td>Sweet Cheeks 2012 Vintner's Reserve Wild Child...</td>\n",
       "      <td>Pinot Noir</td>\n",
       "      <td>Sweet Cheeks</td>\n",
       "    </tr>\n",
       "    <tr>\n",
       "      <th>4</th>\n",
       "      <td>5</td>\n",
       "      <td>Spain</td>\n",
       "      <td>Blackberry and raspberry aromas show a typical...</td>\n",
       "      <td>Ars In Vitro</td>\n",
       "      <td>87</td>\n",
       "      <td>15.0</td>\n",
       "      <td>Northern Spain</td>\n",
       "      <td>Navarra</td>\n",
       "      <td>NaN</td>\n",
       "      <td>Michael Schachner</td>\n",
       "      <td>@wineschach</td>\n",
       "      <td>Tandem 2011 Ars In Vitro Tempranillo-Merlot (N...</td>\n",
       "      <td>Tempranillo-Merlot</td>\n",
       "      <td>Tandem</td>\n",
       "    </tr>\n",
       "  </tbody>\n",
       "</table>\n",
       "</div>"
      ],
      "text/plain": [
       "   Unnamed: 0   country                                        description  \\\n",
       "0           1  Portugal  This is ripe and fruity, a wine that is smooth...   \n",
       "1           2        US  Tart and snappy, the flavors of lime flesh and...   \n",
       "2           3        US  Pineapple rind, lemon pith and orange blossom ...   \n",
       "3           4        US  Much like the regular bottling from 2012, this...   \n",
       "4           5     Spain  Blackberry and raspberry aromas show a typical...   \n",
       "\n",
       "                          designation  points  price        province  \\\n",
       "0                            Avidagos      87   15.0           Douro   \n",
       "1                                 NaN      87   14.0          Oregon   \n",
       "2                Reserve Late Harvest      87   13.0        Michigan   \n",
       "3  Vintner's Reserve Wild Child Block      87   65.0          Oregon   \n",
       "4                        Ars In Vitro      87   15.0  Northern Spain   \n",
       "\n",
       "              region_1           region_2         taster_name  \\\n",
       "0                  NaN                NaN          Roger Voss   \n",
       "1    Willamette Valley  Willamette Valley        Paul Gregutt   \n",
       "2  Lake Michigan Shore                NaN  Alexander Peartree   \n",
       "3    Willamette Valley  Willamette Valley        Paul Gregutt   \n",
       "4              Navarra                NaN   Michael Schachner   \n",
       "\n",
       "  taster_twitter_handle                                              title  \\\n",
       "0            @vossroger      Quinta dos Avidagos 2011 Avidagos Red (Douro)   \n",
       "1           @paulgwine       Rainstorm 2013 Pinot Gris (Willamette Valley)   \n",
       "2                   NaN  St. Julian 2013 Reserve Late Harvest Riesling ...   \n",
       "3           @paulgwine   Sweet Cheeks 2012 Vintner's Reserve Wild Child...   \n",
       "4           @wineschach  Tandem 2011 Ars In Vitro Tempranillo-Merlot (N...   \n",
       "\n",
       "              variety               winery  \n",
       "0      Portuguese Red  Quinta dos Avidagos  \n",
       "1          Pinot Gris            Rainstorm  \n",
       "2            Riesling           St. Julian  \n",
       "3          Pinot Noir         Sweet Cheeks  \n",
       "4  Tempranillo-Merlot               Tandem  "
      ]
     },
     "execution_count": 1,
     "metadata": {},
     "output_type": "execute_result"
    }
   ],
   "source": [
    "import pandas as pd\n",
    "import numpy as np\n",
    "import matplotlib.pyplot as plt\n",
    "from os import path\n",
    "from PIL import Image\n",
    "#from wordcloud import WordCloud, STOPWORDS, ImageColorGenerator\n",
    "\n",
    "#file to load\n",
    "wine_data = \"Resources/wine_data.csv\"\n",
    "wine_df = pd.read_csv(wine_data)\n",
    "wine_df.head()"
   ]
  },
  {
   "cell_type": "markdown",
   "metadata": {},
   "source": [
    "## Average Price of a Bottle of Wine in our Dataset"
   ]
  },
  {
   "cell_type": "code",
   "execution_count": 2,
   "metadata": {},
   "outputs": [
    {
     "name": "stdout",
     "output_type": "stream",
     "text": [
      "The average price of a bottle of wine in our Dataset is $35.36\n"
     ]
    }
   ],
   "source": [
    "mean_price = wine_df[\"price\"].mean()\n",
    "print(f\"The average price of a bottle of wine in our Dataset is ${round(mean_price, 2)}\")"
   ]
  },
  {
   "cell_type": "markdown",
   "metadata": {},
   "source": [
    "## Representation Matters"
   ]
  },
  {
   "cell_type": "code",
   "execution_count": 3,
   "metadata": {},
   "outputs": [
    {
     "name": "stdout",
     "output_type": "stream",
     "text": [
      "Our dataset represents 42 countries, 422 provinces, and 15855 wineries.\n"
     ]
    }
   ],
   "source": [
    "country_count = wine_df[\"country\"].nunique()\n",
    "province_count = wine_df[\"province\"].nunique()\n",
    "winery_count = wine_df[\"winery\"].nunique()\n",
    "\n",
    "print(f\"Our dataset represents {country_count} countries, {province_count} provinces, and {winery_count} wineries.\")"
   ]
  },
  {
   "cell_type": "markdown",
   "metadata": {},
   "source": [
    "## Point Value vs Price"
   ]
  },
  {
   "cell_type": "code",
   "execution_count": 28,
   "metadata": {},
   "outputs": [
    {
     "data": {
      "text/plain": [
       "Text(0.5,1,'Point Value vs Price ($)')"
      ]
     },
     "execution_count": 28,
     "metadata": {},
     "output_type": "execute_result"
    },
    {
     "data": {
      "image/png": "[encoded data removed]",
      "text/plain": [
       "<Figure size 720x360 with 1 Axes>"
      ]
     },
     "metadata": {},
     "output_type": "display_data"
    }
   ],
   "source": [
    "wine_df.boxplot(\"price\", by=\"points\", figsize=(10,5))\n",
    "plt.xlabel(\"Points\")\n",
    "plt.ylabel(\"Price ($)\")\n",
    "plt.title(\"Point Value vs Price ($)\")"
   ]
  },
  {
   "cell_type": "markdown",
   "metadata": {},
   "source": [
    "## Average Point Value"
   ]
  },
  {
   "cell_type": "code",
   "execution_count": 5,
   "metadata": {},
   "outputs": [
    {
     "name": "stdout",
     "output_type": "stream",
     "text": [
      "The average point value of a bottle of wine in our dataset is 88.42 points. So what does that mean? \n"
     ]
    }
   ],
   "source": [
    "avg_point_value = wine_df[\"points\"].mean()\n",
    "print(f\"The average point value of a bottle of wine in our dataset is {round(avg_point_value, 2)} points. So what does that mean? \")\n"
   ]
  },
  {
   "cell_type": "markdown",
   "metadata": {},
   "source": [
    "#### Wine Points\n",
    "* The magazine that published this dataset uses a 100 point system for classifying wines in a review. "
   ]
  },
  {
   "cell_type": "markdown",
   "metadata": {},
   "source": [
    "60-69. Wines are flawed and not recommended\n",
    "\n",
    "70-79 Wines are flawed and taste average\n",
    "\n",
    "80-84 wines are above average to good\n",
    "\n",
    "85-90 wines are good to very good\n",
    "\n",
    "90-94 wines are superior to exceptional\n",
    "\n",
    "95-100. Wines are benchmark examples or classic\n",
    "\n"
   ]
  },
  {
   "cell_type": "code",
   "execution_count": 6,
   "metadata": {
    "scrolled": true
   },
   "outputs": [
    {
     "data": {
      "text/plain": [
       "80"
      ]
     },
     "execution_count": 6,
     "metadata": {},
     "output_type": "execute_result"
    }
   ],
   "source": [
    "wine_df[\"points\"].min()"
   ]
  },
  {
   "cell_type": "markdown",
   "metadata": {},
   "source": [
    "#### There are no wines in our dataset that are below an 80 on the point scale"
   ]
  },
  {
   "cell_type": "code",
   "execution_count": 7,
   "metadata": {
    "scrolled": true
   },
   "outputs": [
    {
     "name": "stderr",
     "output_type": "stream",
     "text": [
      "C:\\Users\\Erin.Ford\\anaconda\\Anaconda3\\lib\\site-packages\\ipykernel_launcher.py:18: SettingWithCopyWarning: \n",
      "A value is trying to be set on a copy of a slice from a DataFrame.\n",
      "Try using .loc[row_indexer,col_indexer] = value instead\n",
      "\n",
      "See the caveats in the documentation: http://pandas.pydata.org/pandas-docs/stable/indexing.html#indexing-view-versus-copy\n"
     ]
    },
    {
     "data": {
      "text/html": [
       "<div>\n",
       "<style scoped>\n",
       "    .dataframe tbody tr th:only-of-type {\n",
       "        vertical-align: middle;\n",
       "    }\n",
       "\n",
       "    .dataframe tbody tr th {\n",
       "        vertical-align: top;\n",
       "    }\n",
       "\n",
       "    .dataframe thead th {\n",
       "        text-align: right;\n",
       "    }\n",
       "</style>\n",
       "<table border=\"1\" class=\"dataframe\">\n",
       "  <thead>\n",
       "    <tr style=\"text-align: right;\">\n",
       "      <th></th>\n",
       "      <th>Unnamed: 0</th>\n",
       "      <th>points</th>\n",
       "      <th>rating</th>\n",
       "    </tr>\n",
       "  </thead>\n",
       "  <tbody>\n",
       "    <tr>\n",
       "      <th>0</th>\n",
       "      <td>1</td>\n",
       "      <td>87</td>\n",
       "      <td>Very Good</td>\n",
       "    </tr>\n",
       "    <tr>\n",
       "      <th>1</th>\n",
       "      <td>2</td>\n",
       "      <td>87</td>\n",
       "      <td>Very Good</td>\n",
       "    </tr>\n",
       "    <tr>\n",
       "      <th>2</th>\n",
       "      <td>3</td>\n",
       "      <td>87</td>\n",
       "      <td>Very Good</td>\n",
       "    </tr>\n",
       "    <tr>\n",
       "      <th>3</th>\n",
       "      <td>4</td>\n",
       "      <td>87</td>\n",
       "      <td>Very Good</td>\n",
       "    </tr>\n",
       "    <tr>\n",
       "      <th>4</th>\n",
       "      <td>5</td>\n",
       "      <td>87</td>\n",
       "      <td>Very Good</td>\n",
       "    </tr>\n",
       "  </tbody>\n",
       "</table>\n",
       "</div>"
      ],
      "text/plain": [
       "   Unnamed: 0  points     rating\n",
       "0           1      87  Very Good\n",
       "1           2      87  Very Good\n",
       "2           3      87  Very Good\n",
       "3           4      87  Very Good\n",
       "4           5      87  Very Good"
      ]
     },
     "execution_count": 7,
     "metadata": {},
     "output_type": "execute_result"
    }
   ],
   "source": [
    "#Analyzing wine score\n",
    "point_df = wine_df[[\"Unnamed: 0\", \"points\"]]\n",
    "rating = []\n",
    "for row in point_df[\"points\"]:\n",
    "    if row >=95:\n",
    "        rating.append(\"Classic\")\n",
    "    elif row > 90 : \n",
    "        rating.append(\"Exceptional\")\n",
    "    elif row >= 85 :\n",
    "        rating.append(\"Very Good\")\n",
    "    elif row >= 80 :\n",
    "        rating.append(\"Good\")\n",
    "    else:\n",
    "        rating.append(\"Flawed wine, don't waste your time\")\n",
    "    \n",
    "    \n",
    "\n",
    "point_df[\"rating\"] = rating\n",
    "\n",
    "point_df.head()\n",
    "\n",
    "            \n",
    "    \n"
   ]
  },
  {
   "cell_type": "code",
   "execution_count": 20,
   "metadata": {
    "scrolled": false
   },
   "outputs": [
    {
     "data": {
      "text/plain": [
       "Text(0.5,1,'Percentage of Dataset by Rating')"
      ]
     },
     "execution_count": 20,
     "metadata": {},
     "output_type": "execute_result"
    },
    {
     "data": {
      "image/png": "[encoded data removed]",
      "text/plain": [
       "<Figure size 432x288 with 1 Axes>"
      ]
     },
     "metadata": {},
     "output_type": "display_data"
    }
   ],
   "source": [
    "#Plotting ratings on a pie chart\n",
    "rating_pie=point_df.groupby([\"rating\"]).points.count()\n",
    "labels=(\"Classic\", \"Exceptional\", \"Good\", \"Very Good\")\n",
    "\n",
    "plt.pie(rating_pie, labels=labels, autopct =\"%1.1f%%\", startangle=140)\n",
    "plt.axis(\"equal\")\n",
    "plt.title(\"Percentage of Dataset by Rating\")\n"
   ]
  },
  {
   "cell_type": "markdown",
   "metadata": {},
   "source": [
    "## Price vs Rating"
   ]
  },
  {
   "cell_type": "code",
   "execution_count": 9,
   "metadata": {},
   "outputs": [
    {
     "data": {
      "text/html": [
       "<div>\n",
       "<style scoped>\n",
       "    .dataframe tbody tr th:only-of-type {\n",
       "        vertical-align: middle;\n",
       "    }\n",
       "\n",
       "    .dataframe tbody tr th {\n",
       "        vertical-align: top;\n",
       "    }\n",
       "\n",
       "    .dataframe thead th {\n",
       "        text-align: right;\n",
       "    }\n",
       "</style>\n",
       "<table border=\"1\" class=\"dataframe\">\n",
       "  <thead>\n",
       "    <tr style=\"text-align: right;\">\n",
       "      <th></th>\n",
       "      <th>Average Price</th>\n",
       "      <th>Cheapest bottle</th>\n",
       "      <th>Most expensive bottle</th>\n",
       "    </tr>\n",
       "    <tr>\n",
       "      <th>rating</th>\n",
       "      <th></th>\n",
       "      <th></th>\n",
       "      <th></th>\n",
       "    </tr>\n",
       "  </thead>\n",
       "  <tbody>\n",
       "    <tr>\n",
       "      <th>Classic</th>\n",
       "      <td>$139.02</td>\n",
       "      <td>$20.00</td>\n",
       "      <td>$2500.00</td>\n",
       "    </tr>\n",
       "    <tr>\n",
       "      <th>Exceptional</th>\n",
       "      <td>$54.30</td>\n",
       "      <td>$7.00</td>\n",
       "      <td>$2013.00</td>\n",
       "    </tr>\n",
       "    <tr>\n",
       "      <th>Good</th>\n",
       "      <td>$18.76</td>\n",
       "      <td>$4.00</td>\n",
       "      <td>$225.00</td>\n",
       "    </tr>\n",
       "    <tr>\n",
       "      <th>Very Good</th>\n",
       "      <td>$27.96</td>\n",
       "      <td>$4.00</td>\n",
       "      <td>$3300.00</td>\n",
       "    </tr>\n",
       "  </tbody>\n",
       "</table>\n",
       "</div>"
      ],
      "text/plain": [
       "            Average Price Cheapest bottle Most expensive bottle\n",
       "rating                                                         \n",
       "Classic           $139.02          $20.00              $2500.00\n",
       "Exceptional        $54.30           $7.00              $2013.00\n",
       "Good               $18.76           $4.00               $225.00\n",
       "Very Good          $27.96           $4.00              $3300.00"
      ]
     },
     "execution_count": 9,
     "metadata": {},
     "output_type": "execute_result"
    }
   ],
   "source": [
    "#adding my previous \"rating\" column to our main df\n",
    "wine_df[\"rating\"]= rating\n",
    "#making df smaller, more manageable\n",
    "price_wine_df=wine_df[[\"Unnamed: 0\", \"price\",\"points\", \"rating\"]]\n",
    "#Getting my numbers\n",
    "mean_price_by_rating=round(price_wine_df.groupby([\"rating\"]).price.mean(),2)\n",
    "min_price_by_rating =round(price_wine_df.groupby([\"rating\"]).price.min(),2)\n",
    "max_price_by_rating = round(price_wine_df.groupby([\"rating\"]).price.max(), 2)\n",
    "\n",
    "price_vs_rating_numbers =pd.DataFrame ({\"Average Price\" : mean_price_by_rating,\n",
    "                                       \"Cheapest bottle\" : min_price_by_rating,\n",
    "                                       \"Most expensive bottle\" : max_price_by_rating\n",
    "                                       })\n",
    "price_vs_rating_numbers[\"Average Price\"] =price_vs_rating_numbers[\"Average Price\"].map(\"${:.2f}\".format)\n",
    "price_vs_rating_numbers[\"Cheapest bottle\"] =price_vs_rating_numbers[\"Cheapest bottle\"].map(\"${:.2f}\".format)\n",
    "price_vs_rating_numbers[\"Most expensive bottle\"] =price_vs_rating_numbers[\"Most expensive bottle\"].map(\"${:.2f}\".format)\n",
    "price_vs_rating_numbers"
   ]
  },
  {
   "cell_type": "code",
   "execution_count": 25,
   "metadata": {},
   "outputs": [
    {
     "data": {
      "text/plain": [
       "Text(0.5,1,'')"
      ]
     },
     "execution_count": 25,
     "metadata": {},
     "output_type": "execute_result"
    },
    {
     "data": {
      "image/png": "[encoded data removed]",
      "text/plain": [
       "<Figure size 720x360 with 1 Axes>"
      ]
     },
     "metadata": {},
     "output_type": "display_data"
    }
   ],
   "source": [
    "price_wine_df.groupby([\"rating\"]).price.mean().plot(kind=\"line\", use_index=True, figsize=(10,5))\n",
    "plt.xlabel(\"Rating\")\n",
    "plt.ylabel(\"Price ($)\")\n",
    "plt.title(\"\")\n"
   ]
  },
  {
   "cell_type": "markdown",
   "metadata": {},
   "source": [
    "## Variety of wines "
   ]
  },
  {
   "cell_type": "markdown",
   "metadata": {},
   "source": [
    "So what is the most popular variety of wine in our dataset? And how do the varieties compare ratings-wise?"
   ]
  },
  {
   "cell_type": "code",
   "execution_count": 11,
   "metadata": {},
   "outputs": [
    {
     "name": "stdout",
     "output_type": "stream",
     "text": [
      "There are 697 varieties of wine represented in our Dataset.\n"
     ]
    }
   ],
   "source": [
    "count_wine =wine_df[\"variety\"].nunique()\n",
    "print(f\"There are {count_wine} varieties of wine represented in our Dataset.\")"
   ]
  },
  {
   "cell_type": "markdown",
   "metadata": {},
   "source": [
    "## Top 10 varieties of wine represented"
   ]
  },
  {
   "cell_type": "code",
   "execution_count": 12,
   "metadata": {},
   "outputs": [
    {
     "data": {
      "text/html": [
       "<div>\n",
       "<style scoped>\n",
       "    .dataframe tbody tr th:only-of-type {\n",
       "        vertical-align: middle;\n",
       "    }\n",
       "\n",
       "    .dataframe tbody tr th {\n",
       "        vertical-align: top;\n",
       "    }\n",
       "\n",
       "    .dataframe thead th {\n",
       "        text-align: right;\n",
       "    }\n",
       "</style>\n",
       "<table border=\"1\" class=\"dataframe\">\n",
       "  <thead>\n",
       "    <tr style=\"text-align: right;\">\n",
       "      <th></th>\n",
       "      <th>Number of Wines in Dataframe</th>\n",
       "      <th>Average Price</th>\n",
       "      <th>Cheapest Bottle</th>\n",
       "      <th>Most Expensive Bottle</th>\n",
       "    </tr>\n",
       "    <tr>\n",
       "      <th>variety</th>\n",
       "      <th></th>\n",
       "      <th></th>\n",
       "      <th></th>\n",
       "      <th></th>\n",
       "    </tr>\n",
       "  </thead>\n",
       "  <tbody>\n",
       "    <tr>\n",
       "      <th>Pinot Noir</th>\n",
       "      <td>12787</td>\n",
       "      <td>47.53</td>\n",
       "      <td>5.0</td>\n",
       "      <td>2500.0</td>\n",
       "    </tr>\n",
       "    <tr>\n",
       "      <th>Chardonnay</th>\n",
       "      <td>11080</td>\n",
       "      <td>34.52</td>\n",
       "      <td>4.0</td>\n",
       "      <td>2013.0</td>\n",
       "    </tr>\n",
       "    <tr>\n",
       "      <th>Cabernet Sauvignon</th>\n",
       "      <td>9386</td>\n",
       "      <td>47.94</td>\n",
       "      <td>4.0</td>\n",
       "      <td>625.0</td>\n",
       "    </tr>\n",
       "    <tr>\n",
       "      <th>Red Blend</th>\n",
       "      <td>8476</td>\n",
       "      <td>35.88</td>\n",
       "      <td>5.0</td>\n",
       "      <td>500.0</td>\n",
       "    </tr>\n",
       "    <tr>\n",
       "      <th>Bordeaux-style Red Blend</th>\n",
       "      <td>5340</td>\n",
       "      <td>47.21</td>\n",
       "      <td>7.0</td>\n",
       "      <td>3300.0</td>\n",
       "    </tr>\n",
       "    <tr>\n",
       "      <th>Riesling</th>\n",
       "      <td>4972</td>\n",
       "      <td>32.00</td>\n",
       "      <td>5.0</td>\n",
       "      <td>775.0</td>\n",
       "    </tr>\n",
       "    <tr>\n",
       "      <th>Sauvignon Blanc</th>\n",
       "      <td>4783</td>\n",
       "      <td>20.23</td>\n",
       "      <td>5.0</td>\n",
       "      <td>135.0</td>\n",
       "    </tr>\n",
       "    <tr>\n",
       "      <th>Syrah</th>\n",
       "      <td>4086</td>\n",
       "      <td>39.14</td>\n",
       "      <td>4.0</td>\n",
       "      <td>750.0</td>\n",
       "    </tr>\n",
       "    <tr>\n",
       "      <th>Rosé</th>\n",
       "      <td>3262</td>\n",
       "      <td>18.51</td>\n",
       "      <td>5.0</td>\n",
       "      <td>800.0</td>\n",
       "    </tr>\n",
       "    <tr>\n",
       "      <th>Merlot</th>\n",
       "      <td>3062</td>\n",
       "      <td>29.54</td>\n",
       "      <td>4.0</td>\n",
       "      <td>625.0</td>\n",
       "    </tr>\n",
       "  </tbody>\n",
       "</table>\n",
       "</div>"
      ],
      "text/plain": [
       "                          Number of Wines in Dataframe  Average Price  \\\n",
       "variety                                                                 \n",
       "Pinot Noir                                       12787          47.53   \n",
       "Chardonnay                                       11080          34.52   \n",
       "Cabernet Sauvignon                                9386          47.94   \n",
       "Red Blend                                         8476          35.88   \n",
       "Bordeaux-style Red Blend                          5340          47.21   \n",
       "Riesling                                          4972          32.00   \n",
       "Sauvignon Blanc                                   4783          20.23   \n",
       "Syrah                                             4086          39.14   \n",
       "Rosé                                              3262          18.51   \n",
       "Merlot                                            3062          29.54   \n",
       "\n",
       "                          Cheapest Bottle  Most Expensive Bottle  \n",
       "variety                                                           \n",
       "Pinot Noir                            5.0                 2500.0  \n",
       "Chardonnay                            4.0                 2013.0  \n",
       "Cabernet Sauvignon                    4.0                  625.0  \n",
       "Red Blend                             5.0                  500.0  \n",
       "Bordeaux-style Red Blend              7.0                 3300.0  \n",
       "Riesling                              5.0                  775.0  \n",
       "Sauvignon Blanc                       5.0                  135.0  \n",
       "Syrah                                 4.0                  750.0  \n",
       "Rosé                                  5.0                  800.0  \n",
       "Merlot                                4.0                  625.0  "
      ]
     },
     "execution_count": 12,
     "metadata": {},
     "output_type": "execute_result"
    }
   ],
   "source": [
    "minimized_variety_df = wine_df[[\"Unnamed: 0\", \"price\", \"points\", \"variety\"]]\n",
    "variety_groups = minimized_variety_df.groupby([\"variety\"]).points.count()\n",
    "avg_price_variety = round(minimized_variety_df.groupby([\"variety\"]).price.mean(),2)\n",
    "min_price_variety = round(minimized_variety_df.groupby([\"variety\"]).price.min(),2)\n",
    "max_price_variety = round(minimized_variety_df.groupby([\"variety\"]).price.max(),2)\n",
    "\n",
    "variety_costs = pd.DataFrame({\"Number of Wines in Dataframe\" : variety_groups,\n",
    "                             \"Average Price\" : avg_price_variety,\n",
    "                             \"Cheapest Bottle\" : min_price_variety,\n",
    "                             \"Most Expensive Bottle\": max_price_variety})\n",
    "final_variety_df =variety_costs.sort_values(\"Number of Wines in Dataframe\", ascending=False).head(10)\n",
    "final_variety_df"
   ]
  },
  {
   "cell_type": "code",
   "execution_count": null,
   "metadata": {},
   "outputs": [],
   "source": []
  },
  {
   "cell_type": "markdown",
   "metadata": {},
   "source": [
    "## Fancy Word Cloud using Wine Descriptions"
   ]
  },
  {
   "cell_type": "code",
   "execution_count": null,
   "metadata": {},
   "outputs": [],
   "source": []
  }
 ],
 "metadata": {
  "kernelspec": {
   "display_name": "Python 3",
   "language": "python",
   "name": "python3"
  },
  "language_info": {
   "codemirror_mode": {
    "name": "ipython",
    "version": 3
   },
   "file_extension": ".py",
   "mimetype": "text/x-python",
   "name": "python",
   "nbconvert_exporter": "python",
   "pygments_lexer": "ipython3",
   "version": "3.6.5"
  }
 },
 "nbformat": 4,
 "nbformat_minor": 2
}
